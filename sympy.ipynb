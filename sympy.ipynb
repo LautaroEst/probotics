{
 "cells": [
  {
   "cell_type": "code",
   "execution_count": 1,
   "metadata": {},
   "outputs": [],
   "source": [
    "import sympy as sp"
   ]
  },
  {
   "cell_type": "code",
   "execution_count": null,
   "metadata": {},
   "outputs": [
    {
     "data": {
      "text/latex": [
       "$\\displaystyle - \\frac{s^{2}}{400 \\left(\\frac{s^{2}}{20000} + \\frac{s}{200} + 50\\right)}$"
      ],
      "text/plain": [
       "-s**2/(400*(s**2/20000 + s/200 + 50))"
      ]
     },
     "execution_count": 24,
     "metadata": {},
     "output_type": "execute_result"
    }
   ],
   "source": [
    "def solve_circuit(A, b):\n",
    "    b_new = b - A[:, -2]\n",
    "    A_new = A[:, :-2].row_join(A[:, -1])\n",
    "    v2_over_v1 = A_new.solve(b_new)[-1]\n",
    "    return v2_over_v1\n",
    "\n",
    "s, r, c = sp.symbols('s, r, c')\n",
    "\n",
    "# Matriz de reolver (nodo1, nodo2, ..., nodoN, v1, v2)\n",
    "A = sp.Matrix([\n",
    "    [1/r + 2*s*c, 0, -s*c, 0],\n",
    "    [-s*c, -1/r, 0, -s*c/100],\n",
    "    [0, 2/r+4*s*c, 0, -1/r],\n",
    "])\n",
    "b = sp.Matrix([0, 0, 0])\n",
    "\n",
    "v2_over_v1 = solve_circuit(A, b)\n",
    "v2_over_v1.subs({r: 5000, c: '1/1000000'})"
   ]
  }
 ],
 "metadata": {
  "kernelspec": {
   "display_name": "base",
   "language": "python",
   "name": "python3"
  },
  "language_info": {
   "codemirror_mode": {
    "name": "ipython",
    "version": 3
   },
   "file_extension": ".py",
   "mimetype": "text/x-python",
   "name": "python",
   "nbconvert_exporter": "python",
   "pygments_lexer": "ipython3",
   "version": "3.9.13"
  }
 },
 "nbformat": 4,
 "nbformat_minor": 2
}
