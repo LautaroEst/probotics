{
 "cells": [
  {
   "cell_type": "markdown",
   "metadata": {},
   "source": [
    "# Práctica 3 - Localización EKF y Mapeo\n",
    "\n",
    "**Profesor**: Prof. Dr. Ignacio Mas\n",
    "\n",
    "**Fecha límite de entrega**: 13/10/2024, 23:59hs"
   ]
  },
  {
   "cell_type": "markdown",
   "metadata": {},
   "source": [
    "---"
   ]
  },
  {
   "cell_type": "code",
   "execution_count": 1,
   "metadata": {},
   "outputs": [],
   "source": [
    "import numpy as np\n",
    "import pandas as pd\n",
    "from matplotlib import pyplot as plt\n",
    "from matplotlib.colors import Normalize\n",
    "\n",
    "from probabilistic_robotics.localization import KalmanFilter\n",
    "from probabilistic_robotics.mapping import GridMapping1D\n",
    "\n",
    "\n",
    "%load_ext autoreload\n",
    "%autoreload 2"
   ]
  },
  {
   "cell_type": "markdown",
   "metadata": {},
   "source": [
    "## 1. Filtro de Kalman Extendido\n",
    "\n",
    "En este ejercicio se implementará un filtro de Kalman Extendido (EKF) basándose en una estructura de código provista por la cátedra."
   ]
  },
  {
   "cell_type": "markdown",
   "metadata": {},
   "source": [
    "### 1.1 Notas preliminares\n",
    "\n",
    "La estructura provista contiene los distintos componentes del filtro EKF, para que el esfuerzo del desarrollo sea en los detalles de la implementación del filtro propiamente dicho. El módulo `probabilistic_robotics` contiene un directorio `localization` con la implementación de los diferentes filtros vistos en el curso. El archivo `kalman.py` contiene la clase `KalmanFilter` que es la base para la implementación del filtro de Kalman Extendido. Dicha clase contine la siguiente estructura:\n",
    "```Python\n",
    "\n",
    "class KalmanFilter:\n",
    "    def __init__(self, mu0, sigma0):\n",
    "        # Constructor de la instancia\n",
    "        # ...\n",
    "\n",
    "    def fit(self, sensor_data, world_data, odometry_noise, sensor_noise):\n",
    "        # Método para ajustar el filtro a los datos\n",
    "        history = []    \n",
    "        for odometry, sensor in sensor_data:\n",
    "            params = self.step(odometry, sensor, world_data, odometry_noise, sensor_noise)\n",
    "            history.append(params)\n",
    "        return history\n",
    "\n",
    "    def step(self, odometry: dict, sensor: dict, world_data: pd.DataFrame, odometry_noise: np.ndarray, sensor_noise: float):\n",
    "        # Paso de predicción\n",
    "        mu_hat, sigma_hat = self.prediction_step(odometry, odometry_noise)\n",
    "        # Paso de corrección\n",
    "        mu, sigma = self.correction_step(mu_hat, sigma_hat, sensor, world_data, sensor_noise)\n",
    "        return mu, sigma\n",
    "\n",
    "    def prediction_step(self, odometry, noise):\n",
    "        # Implementación del paso de predicción\n",
    "        # ...\n",
    "\n",
    "    def correction_step(self, mu_hat, sigma_hat, sensor, world_data, noise):\n",
    "        # Implementación del paso de corrección\n",
    "        # ...\n",
    "```\n",
    "Para este ejercicio se debe implementar los métodos `prediction_step` y `correction_step` de la clase `KalmanFilter` para que el filtro de Kalman Extendido funcione correctamente. Para ello se va a asumir que el ruido del modelo de movimiento está definido por \n",
    "$$\n",
    "Q_t = \\begin{bmatrix} \n",
    "0.2 & 0 & 0 \\\\\n",
    "0 & 0.2 & 0 \\\\\n",
    "0 & 0 & 0.02 \n",
    "\\end{bmatrix}\n",
    "$$\n",
    "y que el ruido de medición está caracterizado por la matriz diagonal cuadrada $R_t$:\n",
    "$$\n",
    "R_t = \\begin{bmatrix} \n",
    "0.5 & 0 & \\ldots & 0 \\\\\n",
    "0 & 0.5 & \\ldots & 0\\\\\n",
    "\\vdots & \\vdots &\\ddots & \\vdots \\\\\n",
    "0 & 0 & \\ldots & 0.5\n",
    "\\end{bmatrix}\n",
    "\\in \\mathbb{R}^{size(z_t)\\,\\times\\, size(z_t)}\n",
    "$$"
   ]
  },
  {
   "cell_type": "markdown",
   "metadata": {},
   "source": [
    "### 1.2. Paso de predicción EKF\n",
    "\n",
    "Supongamos que tenemos un robot diferencial operando en el plano, por lo que su estado esta definido por $\\langle x, y, \\theta \\rangle$. Su modelo de movimiento esta definido como el Modelo de Odometrı́a visto en clase en el capı́tulo de *modelos de movimiento*."
   ]
  },
  {
   "cell_type": "markdown",
   "metadata": {},
   "source": [
    "1. Calcular la matriz jacobiana $G_t$ de la función de movimiento $g$ sin ruido."
   ]
  },
  {
   "cell_type": "markdown",
   "metadata": {},
   "source": [
    "**Respuesta**:\n",
    "\n",
    "Utilizamos el modelo de odometría definido por la función\n",
    "$$\n",
    "g(u_t,x_{t-1}) = \n",
    "\\begin{bmatrix}\n",
    "x(t-1) + \\delta_t(t) \\cos(\\delta_{r1}(t) + \\theta(t-1)) \\\\\n",
    "y(t-1) + \\delta_t(t) \\sin(\\delta_{r1}(t) + \\theta(t-1)) \\\\\n",
    "\\theta(t-1) + \\delta_{r1}(t) + \\delta_{r2}(t)\n",
    "\\end{bmatrix}\n",
    "$$\n",
    "\n",
    "Aplicamos el desarrollo de Taylor de esta función para obtener las ecuaciones que definen el paso de predicción del filtro de Kalman extendido:\n",
    "$$\n",
    "g(u_t,x_{t-1}) \\approx g(u_t,\\mu_{t-1}) + \\frac{\\partial g}{\\partial x_{t-1}}\\bigg\\rvert_{\\mu_{t-1}} (x_{t-1} - \\mu_{t-1})\n",
    "$$\n",
    "con\n",
    "$$\n",
    "G_t = \\frac{\\partial g}{\\partial x_{t-1}}\\bigg\\rvert_{\\mu_{t-1}} =\n",
    "\\begin{bmatrix}\n",
    "\\frac{\\partial x}{\\partial x_{t-1}} & \\frac{\\partial x}{\\partial y_{t-1}} & \\frac{\\partial x}{\\partial \\theta_{t-1}} \\\\\n",
    "\\frac{\\partial y}{\\partial x_{t-1}} & \\frac{\\partial y}{\\partial y_{t-1}} & \\frac{\\partial y}{\\partial \\theta_{t-1}}\\\\\n",
    "\\frac{\\partial \\theta}{\\partial x_{t-1}} & \\frac{\\partial \\theta}{\\partial y_{t-1}} & \\frac{\\partial \\theta}{\\partial \\theta_{t-1}} \\\\\n",
    "\\end{bmatrix} = \n",
    "\\begin{bmatrix}\n",
    "1 & 0 & -\\delta_t(t) \\sin(\\delta_{r1}(t) + \\mu_\\theta(t-1)) \\\\\n",
    "0 & 1 & \\delta_t(t) \\cos(\\delta_{r1}(t) + \\mu_\\theta(t-1)) \\\\\n",
    "0 & 0 & 1\n",
    "\\end{bmatrix}\n",
    "$$\n",
    "el jacobiano de la función $g(u_t,x_{t-1})$ y \n",
    "$$\n",
    "\\mu_{t-1}=\\begin{bmatrix} \\mu_x(t-1) & \\mu_y(t-1) & \\mu_\\theta(t-1) \\end{bmatrix}^T\n",
    "$$. \n",
    "\n",
    "Con esto, el paso de predicción del filtro de Kalman extendido resulta:\n",
    "$$\n",
    "\\begin{align*}\n",
    "\\hat{\\mu}_t &= g(u_t,\\mu_{t-1}) \\\\[.5em]\n",
    "\\hat{\\Sigma}_t &= G_t \\Sigma_{t-1} G_t^T + Q_t \n",
    "\\end{align*}\n",
    "$$"
   ]
  },
  {
   "cell_type": "markdown",
   "metadata": {},
   "source": [
    "2. Implementar el paso de predicción del filtro EKF en la función `prediction_step` usando el jacobiano $G_t$ calculado en el punto anterior."
   ]
  },
  {
   "cell_type": "markdown",
   "metadata": {},
   "source": [
    "### 1.3. Paso de corrección EKF\n",
    "\n",
    "1. Calcular la matriz jacobiana $H_t$ de la función de medición $h$ sin ruido de un sensor que sólo mide distancia (range)."
   ]
  },
  {
   "cell_type": "code",
   "execution_count": 2,
   "metadata": {},
   "outputs": [
    {
     "name": "stdout",
     "output_type": "stream",
     "text": [
      "All tests passed!\n"
     ]
    }
   ],
   "source": [
    "# Dummy data\n",
    "odom = {\"r1\": 0.1, \"t\": 2.0, \"r2\": 0.0}\n",
    "Q = np.eye(3) * 0.1\n",
    "mu0 = np.array([1, 2, 3])\n",
    "sigma0 = np.eye(3) * 0.1\n",
    "\n",
    "# Test prediction step\n",
    "kf = KalmanFilter(mu0, sigma0)\n",
    "mu, sigma = kf.prediction_step(odom, noise=Q)\n",
    "\n",
    "assert np.isclose(mu, np.array([-0.9982703, 2.08316132, 3.1])).all()\n",
    "assert np.isclose(sigma, np.array([\n",
    "    [ 0.20069158,  0.01661788, -0.00831613],\n",
    "    [ 0.01661788,  0.59930842, -0.19982703],\n",
    "    [-0.00831613, -0.19982703,  0.2       ]\n",
    "])).all()\n",
    "\n",
    "print(\"All tests passed!\")"
   ]
  },
  {
   "cell_type": "markdown",
   "metadata": {},
   "source": [
    "**Respuesta**: \n",
    "\n",
    "La medición en este caso está dada por la distancia a los *landmarks*, con lo cual, en cada paso el vector $z_t$ tendrá la dimensión igual a la cantidad de *landmarks* medidos, y cada una de las componentes del vector $h(x_t)$ va a estar dada por:\n",
    "$$\n",
    "h_{t\\,i} = \\sqrt{(x(t)-l_{x\\,i})^2 + (y(t)-l_{y\\,i})^2}\n",
    "$$\n",
    "donde $l_{x\\,i}$ y $l_{y\\,i}$ son, respectivamente, las coordenadas en $x$ y en $y$ del landmark $i$. Ahora, calculamos el jacobiano $H_t$ de esta función respecto de las variables $x(t)$ y $y(t)$:\n",
    "$$\n",
    "\\begin{align*}\n",
    "H_t &= \\frac{\\partial h_t}{\\partial x_{t}}\\bigg\\rvert_{\\hat{\\mu}_{t}} = \\begin{bmatrix} \n",
    "\\frac{\\partial h_{t\\,1}}{\\partial x(t)} & \\frac{\\partial h_{t\\,1}}{\\partial y(t)} & \\frac{\\partial h_{t\\,1}}{\\partial \\theta(t)} \\\\\n",
    "\\frac{\\partial h_{t\\,2}}{\\partial x(t)} & \\frac{\\partial h_{t\\,2}}{\\partial y(t)} & \\frac{\\partial h_{t\\,2}}{\\partial \\theta(t)}\\\\\n",
    "\\vdots & \\vdots & \\vdots \\\\\n",
    "\\frac{\\partial h_{t\\,n}}{\\partial x(t)} & \\frac{\\partial h_{t\\,n}}{\\partial y(t)} & \\frac{\\partial h_{t\\,n}}{\\partial \\theta(t)}\\\\\n",
    "\\end{bmatrix}_{\\hat{\\mu}_{t}} \n",
    "= \\begin{bmatrix} \n",
    "\\frac{\\hat{\\mu_x}(t)-l_{x\\,1}}{\\sqrt{(\\hat{\\mu_x}(t)-l_{x\\,1})^2 + (\\hat{\\mu_y}(t)-l_{y\\,1})^2}} & \\frac{\\hat{\\mu_y}(t)-l_{y\\,1}}{\\sqrt{(\\hat{\\mu_x}(t)-l_{x\\,1})^2 + (\\hat{\\mu_y}(t)-l_{y\\,1})^2}} & 0\\\\\n",
    "\\vdots & \\vdots & \\vdots\\\\\n",
    "\\frac{\\hat{\\mu_x}(t)-l_{x\\,n}}{\\sqrt{(\\hat{\\mu_x}(t)-l_{x\\,n})^2 + (\\hat{\\mu_y}(t)-l_{y\\,n})^2}} & \\frac{\\hat{\\mu_y}(t)-l_{y\\,n}}{\\sqrt{(\\hat{\\mu_x}(t)-l_{x\\,n})^2 + (\\hat{\\mu_y}(t)-l_{y\\,n})^2}} & 0\\\\\n",
    "\\end{bmatrix}\n",
    "\\end{align*}\n",
    "$$\n",
    "\n",
    "De esta manera, el paso de corrección se puede escribir como:\n",
    "$$\n",
    "\\begin{align*}\n",
    "\\hat{\\mu}_t &= \\begin{bmatrix} \\hat{\\mu}_x(t) & \\hat{\\mu}_y(t) & \\hat{\\mu}_\\theta(t) \\end{bmatrix}^T \\\\\n",
    "K_t &= \\hat{\\Sigma}_t H_t^T (H_t \\hat{\\Sigma}_t H_t^T + R_t)^{-1} \\\\[.5em]\n",
    "\\mu_t &= \\hat{\\mu}_t + K_t(z_t - h(\\hat{\\mu_t})) \\\\[.5em]\n",
    "\\Sigma_t &= (I - K_t H_t)\\hat{\\Sigma}_t \n",
    "\\end{align*}\n",
    "$$"
   ]
  },
  {
   "cell_type": "markdown",
   "metadata": {},
   "source": [
    "2. Implementar el paso de corrección del filtro EKF en la función `correction_step` usando el jacobiano $H_t$."
   ]
  },
  {
   "cell_type": "code",
   "execution_count": 3,
   "metadata": {},
   "outputs": [
    {
     "name": "stdout",
     "output_type": "stream",
     "text": [
      "All tests passed!\n"
     ]
    }
   ],
   "source": [
    "# Dummy data\n",
    "mu_hat = np.array([-0.9982703, 2.08316132, 3.1])\n",
    "sigma_hat = np.array([\n",
    "    [ 0.20069158,  0.01661788, -0.00831613],\n",
    "    [ 0.01661788,  0.59930842, -0.19982703],\n",
    "    [-0.00831613, -0.19982703,  0.2       ]\n",
    "])\n",
    "sensor = {\"id\": [3, 2], \"range\": [5.0, 2.1], \"bearing\": [0.1, 0.1]}\n",
    "world_data = pd.DataFrame({\n",
    "    \"id\": [1, 2, 3],\n",
    "    \"x\": [4.0, 2.0, 5.0],\n",
    "    \"y\": [0.0, 0.0, 0.0],\n",
    "}).set_index(\"id\")\n",
    "\n",
    "# Test correction step\n",
    "mu, sigma = kf.correction_step(mu_hat, sigma_hat, sensor, world_data, noise=0.5)\n",
    "\n",
    "assert np.isclose(mu, np.array([-0.52311466,  1.35453949,  3.33607814])).all()\n",
    "assert np.isclose(sigma, np.array([\n",
    "    [ 0.14294787,  0.09546363, -0.03377498],\n",
    "    [ 0.09546363,  0.45763504, -0.15373623],\n",
    "    [-0.03377498, -0.15373623,  0.18500255]\n",
    "])).all()\n",
    "\n",
    "print(\"All tests passed!\")"
   ]
  },
  {
   "cell_type": "markdown",
   "metadata": {},
   "source": [
    "### 1.4 Visualización\n",
    "\n",
    "Luego de implementar los pasos de predicción y corrección, se generarán gráficos del estado del robot para cada paso de tiempo. Para ello, ejecutar el script `localization_kf.py` dentro de la carpeta `probabilistic_robotics/scripts` con el comando:\n",
    "```bash\n",
    "python -m probabilistic_robotics.scripts.localization_kf \\\n",
    "    --sensor_data path/to/sensor_data.dat \\\n",
    "    --world_data path/to/world.dat \\\n",
    "    --plots_dir path/where/to/save/plots\n",
    "```\n",
    "En el directorio `scripts` se provee el archivo `ekf.sh` que ejecuta el comando anterior y genera el video resultante de la simulación utilizando el comando `ffmpeg`."
   ]
  },
  {
   "cell_type": "markdown",
   "metadata": {},
   "source": [
    "## 2. Mapeo con poses conocidas"
   ]
  },
  {
   "cell_type": "markdown",
   "metadata": {},
   "source": [
    "Un robot debe construir un mapa de grilla de ocupación (celdas $c_0$, $\\ldots$, $c_n$) de un entorno unidimensional usando una secuencia de mediciones de un sensor de distancia. Asumir el siguiente modelo de sensor: cada celda de la grilla con una distancia menor que la distancia medida se asume ocupada con una probabilidad de $p = 0.3$. Cada celda más allá de la distancia medida se asume ocupada con una probabilidad de $p = 0.6$. Las celdas ubicadas a más de $20\\,\\mathrm{cm}$ por detrás de la distancia medida no cambian su probabilidad de ocupación.\n",
    "\n",
    "<p align=\"center\">\n",
    "  <img src=\"./img/grilla_unidimensional.png\" />\n",
    "</p>\n",
    "\n",
    "\n",
    "El mapeo unidimensional está implementado en la clase `GridMapping1D` del archivo `probabilistic_robotics/mapping/grid1d.py`. La clase tiene la siguiente estructura:\n",
    "\n",
    "```Python\n",
    "class GridMapping1D:\n",
    "    def __init__(self, initial_belief, grid_size, grid_interval, backgroud_limit):\n",
    "        # Constructor de la instancia\n",
    "        # ...\n",
    "\n",
    "    def fit(self, sensor_data):\n",
    "        # Método para ajustar el mapa a las mediciones\n",
    "        history = [belief]\n",
    "        for robot_position, z in measurements:\n",
    "            logodds += self.inverse_sensor_model(belief, robot_position, z) - logodds_0\n",
    "            belief = expit(logodds)\n",
    "            history.append(belief)\n",
    "        return history\n",
    "\n",
    "    @property\n",
    "    def grid(self):\n",
    "        return np.arange(0, self.grid_size + 1) * self.grid_interval\n",
    "\n",
    "    def position_to_cell(self, position):\n",
    "        \"\"\"Obtiene la celda correspondiente a la posición\"\"\"\n",
    "        return np.digitize(position, self.grid) - 1\n",
    "\n",
    "    def inverse_sensor_model(self, belief, robot_position, z):\n",
    "        # Implementación del modelo inverso del sensor\n",
    "        # ...\n",
    "```\n",
    "\n",
    "1. Implementar la función `inverse_sensor_model` que recibe `belief` (probabilidad de ocupación de cada celda de la grilla), la posición `robot_position` del robot en el mapa y una medición `z` para actualizar el *belief* utilizando el modelo explicado anteriormente. Las mediciones y el *belief a priori* se detallan en la siguiente tabla:\n",
    "\n",
    "<div align=\"center\">\n",
    "\n",
    "| | |\n",
    "|---|:---:|\n",
    "| Resolución de la grilla | 10cm |\n",
    "| Logitud del mapa (1-D) | 2m |\n",
    "| posición del robot | $c_0$ |\n",
    "| orientación del sensor | mirando hacia $c_n$ (ver figura 2.1) |\n",
    "| mediciones (en cm) | 101, 82, 91, 112, 99, 151, 96, 85, 99, 105 |\n",
    "| prob. a priori | 0.5 |\n",
    "| | |"
   ]
  },
  {
   "cell_type": "code",
   "execution_count": 4,
   "metadata": {},
   "outputs": [
    {
     "name": "stdout",
     "output_type": "stream",
     "text": [
      "All tests passed!\n"
     ]
    }
   ],
   "source": [
    "grid_size = 10\n",
    "grid_interval = 1\n",
    "backgroud_limit = 1\n",
    "initial_belief = np.ones(grid_size + 1) * .5\n",
    "mapping = GridMapping1D(initial_belief, grid_size, grid_interval, backgroud_limit)\n",
    "logodds = mapping.inverse_sensor_model(initial_belief, 0, 4)\n",
    "\n",
    "assert np.isclose(logodds, np.array([-0.84729786, -0.84729786, -0.84729786, -0.84729786, 0, 0, 0, 0, 0, 0, 0])).all()\n",
    "print(\"All tests passed!\")"
   ]
  },
  {
   "cell_type": "markdown",
   "metadata": {},
   "source": [
    "2. Graficar el *belief* para cada medición."
   ]
  },
  {
   "cell_type": "code",
   "execution_count": 5,
   "metadata": {},
   "outputs": [
    {
     "data": {
      "image/png": "[encoded data removed]",
      "text/plain": [
       "<Figure size 1500x800 with 12 Axes>"
      ]
     },
     "metadata": {},
     "output_type": "display_data"
    }
   ],
   "source": [
    "def plot_belief(history, grid):\n",
    "    fig, ax = plt.subplots(len(history), 1, figsize=(15, 8), sharex=True)\n",
    "    normalize = Normalize(vmin=0, vmax=1)\n",
    "    images = []\n",
    "    for i, belief in enumerate(history):\n",
    "        images.append(ax[i].imshow(belief.reshape(1,-1), cmap='gray_r', norm=normalize, aspect='auto'))\n",
    "        ax[i].set_ylabel(f't = {i}', fontsize=8)\n",
    "        ax[i].set_yticks([])\n",
    "        ax[i].set_xticks([])\n",
    "    ax[0].set_title('Belief in grid cell')\n",
    "    ax[-1].set_xlabel('Position')\n",
    "    ax[-1].set_xticks(np.arange(0, len(grid) + 1)[::20])\n",
    "    ax[-1].set_xticklabels(grid[::20])\n",
    "    fig.colorbar(images[0], ax=ax, orientation='vertical', pad=0.01, label='Probability')\n",
    "\n",
    "\n",
    "grid_size = 200 # Número de celdas en el mapa\n",
    "grid_interval = 10 # Intervalo entre celdas (en cm)\n",
    "backgroud_limit = 20 # Distancia más allá de la cual no cambia la probabilidad de ocupación (en cm)\n",
    "robot_position = 0 # Posición inicial del robot (en cm)\n",
    "prior = 0.5\n",
    "\n",
    "# Instanciamos el mapa\n",
    "mapping = GridMapping1D(prior, grid_size, grid_interval, backgroud_limit)\n",
    "\n",
    "# Actualizamos el mapa con las mediciones\n",
    "measurements = [101, 82, 91, 112, 99, 151, 96, 85, 99, 105] # Mediciones de distancia (en cm)\n",
    "measurements = [(robot_position, z) for z in measurements]\n",
    "history = mapping.fit(measurements)\n",
    "\n",
    "# Graficamos el mapa\n",
    "plot_belief(history, mapping.grid)"
   ]
  },
  {
   "cell_type": "markdown",
   "metadata": {},
   "source": [
    "3. Se decide invertir en un sensor más costoso y se toman nuevamente las mediciones. Ejecutar nuevamente el algoritmo de mapeo con el mismo modelo del punto anterior, pero ahora con las siguientes mediciones:\n",
    "\n",
    "<div align=\"center\">\n",
    "\n",
    "| | |\n",
    "|---|:---:|\n",
    "| mediciones (en cm) | 101, 99, 97, 102, 99, 100, 96, 104, 99, 105 |\n",
    "| | |"
   ]
  },
  {
   "cell_type": "code",
   "execution_count": 6,
   "metadata": {},
   "outputs": [
    {
     "data": {
      "image/png": "[encoded data removed]",
      "text/plain": [
       "<Figure size 1500x800 with 12 Axes>"
      ]
     },
     "metadata": {},
     "output_type": "display_data"
    }
   ],
   "source": [
    "# Instanciamos de nuevo el mapa\n",
    "mapping = GridMapping1D(prior, grid_size, grid_interval, backgroud_limit)\n",
    "\n",
    "# Actualizamos el mapa con otras mediciones\n",
    "measurements = [101, 99, 97, 102, 99, 100, 96, 104, 99, 105]\n",
    "measurements = [(robot_position, z) for z in measurements]\n",
    "history = mapping.fit(measurements)\n",
    "\n",
    "# Graficamos el mapa\n",
    "plot_belief(history, mapping.grid)"
   ]
  }
 ],
 "metadata": {
  "kernelspec": {
   "display_name": "Python 3 (ipykernel)",
   "language": "python",
   "name": "python3"
  },
  "language_info": {
   "codemirror_mode": {
    "name": "ipython",
    "version": 3
   },
   "file_extension": ".py",
   "mimetype": "text/x-python",
   "name": "python",
   "nbconvert_exporter": "python",
   "pygments_lexer": "ipython3",
   "version": "3.9.13"
  }
 },
 "nbformat": 4,
 "nbformat_minor": 2
}
