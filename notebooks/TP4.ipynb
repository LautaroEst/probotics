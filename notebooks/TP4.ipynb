{
 "cells": [
  {
   "cell_type": "markdown",
   "metadata": {},
   "source": [
    "# Práctica 4 - FastSLAM y Planeamiento de Trayectoria\n",
    "\n",
    "**Profesor**: Prof. Dr. Ignacio Mas\n",
    "\n",
    "**Fecha límite de entrega**: 24/11/2024, 23:59hs"
   ]
  },
  {
   "cell_type": "markdown",
   "metadata": {},
   "source": [
    "---"
   ]
  },
  {
   "cell_type": "code",
   "execution_count": null,
   "metadata": {},
   "outputs": [],
   "source": [
    "import numpy as np\n",
    "import pandas as pd\n",
    "from matplotlib import pyplot as plt\n",
    "from matplotlib.colors import Normalize\n",
    "\n",
    "from probabilistic_robotics.localization import KalmanFilter\n",
    "from probabilistic_robotics.mapping import GridMapping1D\n",
    "\n",
    "\n",
    "%load_ext autoreload\n",
    "%autoreload 2"
   ]
  },
  {
   "cell_type": "markdown",
   "metadata": {},
   "source": [
    "## 1. Implementación de algoritmo FASTSLAM\n",
    "\n",
    "En este ejercicio se implementará el algoritmo FASTSLAM basado en landmarks. Se asume que los landmarks son identificables por lo que el problema de asociación de datos está resuelto."
   ]
  },
  {
   "cell_type": "markdown",
   "metadata": {},
   "source": [
    "### 1.1. Paso de corrección FASTSLAM\n",
    "\n",
    "Implementar el paso de corrección en la función correction `step(...)`. Asumir que el ruido de medición está caracterizado por la matriz diagonal cuadrada de $2\\times 2$ $Q_t$:\n",
    "$$\n",
    "\\begin{equation}\n",
    "Q_t = \n",
    "\\begin{bmatrix} \n",
    "0.1 & 0.0 \\\\\n",
    "0.0 & 0.1\n",
    "\\end{bmatrix}\n",
    "\\end{equation}\n",
    "$$"
   ]
  },
  {
   "cell_type": "markdown",
   "metadata": {},
   "source": [
    "## 2. Planeamiento de caminos\n",
    "\n",
    "Los algoritmos de búsqueda en grafos como Dijkstra o A* pueden ser usados para planear caminos en grafos desde un lugar de inicio hasta un objetivo. Si las celdas de un mapa de grilla se representan como nodos conectados con sus celdas vecinas, estos algoritmos pueden aplicarse directamente para realizar planeamiento para robots. Para este ejercicio, consideramos las 8 celdas vecinas de una celda $\\langle x, y \\rangle$, que se definen como las celdas adyacentes a $\\langle x, y \\rangle$ horizontalmente, verticalmente y en diagonal. \n",
    "\n",
    "El archivo incluido contiene una implementación de planeamiento en 2-D basado en grafos. El script `planning framework.m` contiene la parte principal del algoritmo y es el que debe ejecutarse. Este archivo no necesita ser modificado, pero es aconsejable entender lo que hace. Los ejercicios de esta sección se realizan implementando las funciones vacías que acompañan al script principal."
   ]
  },
  {
   "cell_type": "markdown",
   "metadata": {},
   "source": [
    "### 2.1. Algoritmo de Dijkstra\n",
    "\n",
    "El algoritmo de Dijkstra se usa para calcular caminos de costo mínimo dentro de un grafo. Durante la búsqueda, siempre se busca el nodo del grafo con el menor costo desde el punto de inicio y se agregan los nodos vecinos al grafo de búsqueda.\n",
    "\n",
    "1. Sea $M(x, y)$ un mapa de grilla de ocupación. Durante la búsqueda, las celdas se conectan con sus celdas vecinas para construir el grafo de búsqueda. Completar la función `neighbors` provista que define los vecinos de una celda. La función toma como entrada las coordenadas de una celda y el tamaño del mapa, y devuelve un vector de $n \\times 2$ con las coordenadas de sus celdas vecinas, teniendo en cuenta los límites del mapa.\n",
    "\n",
    "2. Implementar una función para los costos de un arco entre nodos que permita planear caminos de mínima longitud y libre de colisiones. Considerar la celda como un obstáculo si su probabilidad de ocupación supera cierto umbral. ¿Qué umbral se debería elegir? Implementar la función `edge_cost`.\n",
    "\n",
    "3. Incluir información de ocupación en la función de costo que permita que el algoritmo elija celdas con baja probabilidad de ocupación sobre celdas con mayor\n",
    "probabilidad de ocupación."
   ]
  },
  {
   "cell_type": "markdown",
   "metadata": {},
   "source": [
    "## 2.2. Algoritmo $A^*$\n",
    "\n",
    "El algoritmo $A^*$ utiliza una heurística para realizar una búsqueda informada que resulta ser más eficiente que el algoritmo de Dijkstra.\n",
    "\n",
    "1. ¿Qué propiedades debe tener dicha heurística para asegurar que $A^*$ es óptimo?\n",
    "\n",
    "2. Definir una heurística para planeamiento de robots móviles en 2-D. Completar la función heuristic provista. La función toma como entrada las coordenadas de\n",
    "una celda y del objetivo, y devuelve el costo estimado hasta el objetivo.\n",
    "\n",
    "3. ¿Qué pasa si se aumenta la heurística usando $h_2$, siendo $h_2$ un múltiplo de la heurística $h$ definida en el punto anterior. Analizar el comportamiento con diferentes factores: $h_2 = a\\,h,\\;\\; a \\in \\{1, 2, 5, 10\\}$"
   ]
  }
 ],
 "metadata": {
  "kernelspec": {
   "display_name": "base",
   "language": "python",
   "name": "python3"
  },
  "language_info": {
   "name": "python",
   "version": "3.11.5"
  }
 },
 "nbformat": 4,
 "nbformat_minor": 2
}
